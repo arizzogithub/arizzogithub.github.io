{
 "cells": [
  {
   "cell_type": "code",
   "execution_count": null,
   "id": "b6409a4c",
   "metadata": {},
   "outputs": [],
   "source": [
    "import spacy\n",
    "from spacy import displacy\n",
    "from spacy import displacy\n",
    "\n",
    "nlp = spacy.load ('en_core_web_sm')\n",
    "\n",
    "text = 'The government raised interest rates.'\n",
    "#text = 'The internet gives everyone a voice.'\n",
    "#text = 'The man saw the dog with the telescope.'\n",
    "\n",
    "doc = nlp(text)\n",
    "\n",
    "for token in doc:\n",
    "    print(token.text,\n",
    "         token.dep_,\n",
    "         token.head.text,\n",
    "         token.pos_,\n",
    "        [child for child in token.children])\n",
    "\n",
    "displacy.render(doc, style='dep', jupyter=True, options = {'fine_grained':True})"
   ]
  }
 ],
 "metadata": {
  "kernelspec": {
   "display_name": "Python 3 (ipykernel)",
   "language": "python",
   "name": "python3"
  },
  "language_info": {
   "codemirror_mode": {
    "name": "ipython",
    "version": 3
   },
   "file_extension": ".py",
   "mimetype": "text/x-python",
   "name": "python",
   "nbconvert_exporter": "python",
   "pygments_lexer": "ipython3",
   "version": "3.9.7"
  }
 },
 "nbformat": 4,
 "nbformat_minor": 5
}
